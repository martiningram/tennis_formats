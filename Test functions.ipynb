{
 "cells": [
  {
   "cell_type": "code",
   "execution_count": 1,
   "metadata": {
    "collapsed": false
   },
   "outputs": [],
   "source": [
    "import pyximport; pyximport.install()\n",
    "import matplotlib.pyplot as plt\n",
    "import numpy as np\n",
    "import pandas as pd\n",
    "import seaborn as sns\n",
    "import set_types\n",
    "import monte_carlo\n",
    "from simulate import get_systems, run_trials\n",
    "from tqdm import tqdm\n",
    "\n",
    "%matplotlib inline"
   ]
  },
  {
   "cell_type": "markdown",
   "metadata": {},
   "source": [
    "# Reproduce Tristan Barnett Results\n",
    "\n",
    "The goal of this notebook is to compare simulation results against those published in:\n",
    "\n",
    "http://strategicgames.com.au/article32.pdf\n",
    "\n",
    "## Standard scoring systems"
   ]
  },
  {
   "cell_type": "code",
   "execution_count": 2,
   "metadata": {
    "collapsed": false
   },
   "outputs": [
    {
     "name": "stdout",
     "output_type": "stream",
     "text": [
      "['wta_wimbledon', 'atp_us_open', 'fast_four_singles', 'fast_four_doubles', 'doubles', 'atp_wimbledon', 'mixed_doubles_fo', 'wta_us_open']\n"
     ]
    }
   ],
   "source": [
    "systems = get_systems()\n",
    "\n",
    "print(systems.keys())"
   ]
  },
  {
   "cell_type": "code",
   "execution_count": 3,
   "metadata": {
    "collapsed": true
   },
   "outputs": [],
   "source": [
    "# Match up with Tristan's numbering:\n",
    "system_nums = {4: 'atp_wimbledon', 5: 'wta_wimbledon',\n",
    "               6: 'atp_us_open', 7: 'wta_us_open',\n",
    "               8: 'mixed_doubles_fo', 9: 'doubles'}"
   ]
  },
  {
   "cell_type": "code",
   "execution_count": 4,
   "metadata": {
    "collapsed": true
   },
   "outputs": [],
   "source": [
    "def calculate_barnett_stats(sim_df):\n",
    "    \n",
    "    better_won = sim_df['better_won'].mean()\n",
    "    pts_mean = sim_df['total_points'].mean()\n",
    "    pts_std = sim_df['total_points'].std()\n",
    "    pts_98 = np.percentile(sim_df['total_points'].values, 98)\n",
    "    \n",
    "    return {'p(A)': better_won, 'mean_pts': pts_mean,\n",
    "            'std_pts': pts_std, '98th_pts': pts_98}"
   ]
  },
  {
   "cell_type": "code",
   "execution_count": 5,
   "metadata": {
    "collapsed": false
   },
   "outputs": [
    {
     "name": "stderr",
     "output_type": "stream",
     "text": [
      "100%|██████████| 6/6 [14:32<00:00, 135.76s/it]\n"
     ]
    }
   ],
   "source": [
    "spw_1, spw_2 = 0.77, 0.73\n",
    "\n",
    "num_trials = int(1e5)\n",
    "\n",
    "simulation_results = dict()\n",
    "\n",
    "for system_num, key in tqdm(system_nums.items()):\n",
    "    \n",
    "    system_fn = systems[key]\n",
    "    \n",
    "    results = run_trials(system_fn, spw_1, spw_2, num_trials=num_trials)\n",
    "    \n",
    "    simulation_results[system_num] = calculate_barnett_stats(results)\n",
    "    \n",
    "simulation_results = pd.DataFrame(simulation_results)"
   ]
  },
  {
   "cell_type": "code",
   "execution_count": 6,
   "metadata": {
    "collapsed": false
   },
   "outputs": [
    {
     "data": {
      "text/html": [
       "<div>\n",
       "<table border=\"1\" class=\"dataframe\">\n",
       "  <thead>\n",
       "    <tr style=\"text-align: right;\">\n",
       "      <th></th>\n",
       "      <th>4</th>\n",
       "      <th>5</th>\n",
       "      <th>6</th>\n",
       "      <th>7</th>\n",
       "      <th>8</th>\n",
       "      <th>9</th>\n",
       "    </tr>\n",
       "  </thead>\n",
       "  <tbody>\n",
       "    <tr>\n",
       "      <th>98th_pts</th>\n",
       "      <td>575.000000</td>\n",
       "      <td>474.000000</td>\n",
       "      <td>385.000000</td>\n",
       "      <td>242.000000</td>\n",
       "      <td>186.000000</td>\n",
       "      <td>172.000000</td>\n",
       "    </tr>\n",
       "    <tr>\n",
       "      <th>mean_pts</th>\n",
       "      <td>290.518990</td>\n",
       "      <td>191.999630</td>\n",
       "      <td>272.196590</td>\n",
       "      <td>166.151930</td>\n",
       "      <td>142.869570</td>\n",
       "      <td>131.452980</td>\n",
       "    </tr>\n",
       "    <tr>\n",
       "      <th>p(A)</th>\n",
       "      <td>0.721480</td>\n",
       "      <td>0.690610</td>\n",
       "      <td>0.706880</td>\n",
       "      <td>0.668380</td>\n",
       "      <td>0.658470</td>\n",
       "      <td>0.658270</td>\n",
       "    </tr>\n",
       "    <tr>\n",
       "      <th>std_pts</th>\n",
       "      <td>99.175766</td>\n",
       "      <td>93.053224</td>\n",
       "      <td>60.620362</td>\n",
       "      <td>40.355408</td>\n",
       "      <td>21.767761</td>\n",
       "      <td>20.564225</td>\n",
       "    </tr>\n",
       "  </tbody>\n",
       "</table>\n",
       "</div>"
      ],
      "text/plain": [
       "                   4           5           6           7           8  \\\n",
       "98th_pts  575.000000  474.000000  385.000000  242.000000  186.000000   \n",
       "mean_pts  290.518990  191.999630  272.196590  166.151930  142.869570   \n",
       "p(A)        0.721480    0.690610    0.706880    0.668380    0.658470   \n",
       "std_pts    99.175766   93.053224   60.620362   40.355408   21.767761   \n",
       "\n",
       "                   9  \n",
       "98th_pts  172.000000  \n",
       "mean_pts  131.452980  \n",
       "p(A)        0.658270  \n",
       "std_pts    20.564225  "
      ]
     },
     "execution_count": 6,
     "metadata": {},
     "output_type": "execute_result"
    }
   ],
   "source": [
    "simulation_results"
   ]
  },
  {
   "cell_type": "code",
   "execution_count": 7,
   "metadata": {
    "collapsed": false
   },
   "outputs": [
    {
     "data": {
      "text/html": [
       "<div>\n",
       "<table border=\"1\" class=\"dataframe\">\n",
       "  <thead>\n",
       "    <tr style=\"text-align: right;\">\n",
       "      <th></th>\n",
       "      <th>4</th>\n",
       "      <th>5</th>\n",
       "      <th>6</th>\n",
       "      <th>7</th>\n",
       "      <th>8</th>\n",
       "      <th>9</th>\n",
       "    </tr>\n",
       "  </thead>\n",
       "  <tbody>\n",
       "    <tr>\n",
       "      <th>98th_pts</th>\n",
       "      <td>-7.000000</td>\n",
       "      <td>-6.000000</td>\n",
       "      <td>0.000000</td>\n",
       "      <td>-1.000000</td>\n",
       "      <td>-1.000000</td>\n",
       "      <td>-2.000000</td>\n",
       "    </tr>\n",
       "    <tr>\n",
       "      <th>mean_pts</th>\n",
       "      <td>0.218990</td>\n",
       "      <td>-0.100370</td>\n",
       "      <td>0.196590</td>\n",
       "      <td>-0.148070</td>\n",
       "      <td>0.069570</td>\n",
       "      <td>-0.047020</td>\n",
       "    </tr>\n",
       "    <tr>\n",
       "      <th>p(A)</th>\n",
       "      <td>-0.001520</td>\n",
       "      <td>0.000610</td>\n",
       "      <td>-0.001120</td>\n",
       "      <td>-0.000620</td>\n",
       "      <td>0.002470</td>\n",
       "      <td>0.000270</td>\n",
       "    </tr>\n",
       "    <tr>\n",
       "      <th>std_pts</th>\n",
       "      <td>-0.324234</td>\n",
       "      <td>-0.046776</td>\n",
       "      <td>-0.079638</td>\n",
       "      <td>0.055408</td>\n",
       "      <td>-0.032239</td>\n",
       "      <td>0.064225</td>\n",
       "    </tr>\n",
       "  </tbody>\n",
       "</table>\n",
       "</div>"
      ],
      "text/plain": [
       "                 4         5         6         7         8         9\n",
       "98th_pts -7.000000 -6.000000  0.000000 -1.000000 -1.000000 -2.000000\n",
       "mean_pts  0.218990 -0.100370  0.196590 -0.148070  0.069570 -0.047020\n",
       "p(A)     -0.001520  0.000610 -0.001120 -0.000620  0.002470  0.000270\n",
       "std_pts  -0.324234 -0.046776 -0.079638  0.055408 -0.032239  0.064225"
      ]
     },
     "execution_count": 7,
     "metadata": {},
     "output_type": "execute_result"
    }
   ],
   "source": [
    "# Add Barnett results for 0.77 0.73\n",
    "\n",
    "# (i): p(A)\n",
    "# (ii): mean pts\n",
    "# (iii): std pts\n",
    "# (iv): n/a\n",
    "# (v): 98th\n",
    "\n",
    "if spw_1 == 0.77 and spw_2 == 0.73:\n",
    "\n",
    "    b_77 = dict()\n",
    "\n",
    "    b_77[4] = {'p(A)': 0.723, 'mean_pts': 290.3, 'std_pts': 99.5,\n",
    "               '98th_pts': 582}\n",
    "\n",
    "    b_77[5] = {'p(A)': 0.690, 'mean_pts': 192.1, 'std_pts': 93.1,\n",
    "               '98th_pts': 480}\n",
    "\n",
    "    b_77[6] = {'p(A)': 0.708, 'mean_pts': 272.0, 'std_pts': 60.7,\n",
    "               '98th_pts': 385}\n",
    "\n",
    "    b_77[7] = {'p(A)': 0.669, 'mean_pts': 166.3, 'std_pts': 40.3,\n",
    "               '98th_pts': 243}\n",
    "\n",
    "    b_77[8] = {'p(A)': 0.656, 'mean_pts': 142.8, 'std_pts': 21.8,\n",
    "               '98th_pts': 187}\n",
    "\n",
    "    b_77[9] = {'p(A)': 0.658, 'mean_pts': 131.5, 'std_pts': 20.5,\n",
    "               '98th_pts': 174}\n",
    "\n",
    "    b_77 = pd.DataFrame(b_77)\n",
    "    \n",
    "    differences = simulation_results - b_77\n",
    "    \n",
    "else:\n",
    "    \n",
    "    differences = None\n",
    "    \n",
    "differences"
   ]
  },
  {
   "cell_type": "code",
   "execution_count": 8,
   "metadata": {
    "collapsed": false
   },
   "outputs": [
    {
     "data": {
      "text/html": [
       "<div>\n",
       "<table border=\"1\" class=\"dataframe\">\n",
       "  <thead>\n",
       "    <tr style=\"text-align: right;\">\n",
       "      <th></th>\n",
       "      <th>4</th>\n",
       "      <th>5</th>\n",
       "      <th>6</th>\n",
       "      <th>7</th>\n",
       "      <th>8</th>\n",
       "      <th>9</th>\n",
       "    </tr>\n",
       "  </thead>\n",
       "  <tbody>\n",
       "    <tr>\n",
       "      <th>98th_pts</th>\n",
       "      <td>-1.202749</td>\n",
       "      <td>-1.250000</td>\n",
       "      <td>0.000000</td>\n",
       "      <td>-0.411523</td>\n",
       "      <td>-0.534759</td>\n",
       "      <td>-1.149425</td>\n",
       "    </tr>\n",
       "    <tr>\n",
       "      <th>mean_pts</th>\n",
       "      <td>0.075436</td>\n",
       "      <td>-0.052249</td>\n",
       "      <td>0.072276</td>\n",
       "      <td>-0.089038</td>\n",
       "      <td>0.048718</td>\n",
       "      <td>-0.035757</td>\n",
       "    </tr>\n",
       "    <tr>\n",
       "      <th>p(A)</th>\n",
       "      <td>-0.210235</td>\n",
       "      <td>0.088406</td>\n",
       "      <td>-0.158192</td>\n",
       "      <td>-0.092676</td>\n",
       "      <td>0.376524</td>\n",
       "      <td>0.041033</td>\n",
       "    </tr>\n",
       "    <tr>\n",
       "      <th>std_pts</th>\n",
       "      <td>-0.325863</td>\n",
       "      <td>-0.050243</td>\n",
       "      <td>-0.131199</td>\n",
       "      <td>0.137489</td>\n",
       "      <td>-0.147883</td>\n",
       "      <td>0.313291</td>\n",
       "    </tr>\n",
       "  </tbody>\n",
       "</table>\n",
       "</div>"
      ],
      "text/plain": [
       "                 4         5         6         7         8         9\n",
       "98th_pts -1.202749 -1.250000  0.000000 -0.411523 -0.534759 -1.149425\n",
       "mean_pts  0.075436 -0.052249  0.072276 -0.089038  0.048718 -0.035757\n",
       "p(A)     -0.210235  0.088406 -0.158192 -0.092676  0.376524  0.041033\n",
       "std_pts  -0.325863 -0.050243 -0.131199  0.137489 -0.147883  0.313291"
      ]
     },
     "execution_count": 8,
     "metadata": {},
     "output_type": "execute_result"
    }
   ],
   "source": [
    "# Percentage differences\n",
    "\n",
    "(differences / b_77) * 100"
   ]
  },
  {
   "cell_type": "markdown",
   "metadata": {},
   "source": [
    "## Conclusions\n",
    "\n",
    "The differences seem to be at around 1% or less, indicating fairly good agreement between the simulation and the paper."
   ]
  },
  {
   "cell_type": "markdown",
   "metadata": {},
   "source": [
    "## Comparison for other spw"
   ]
  },
  {
   "cell_type": "code",
   "execution_count": 9,
   "metadata": {
    "collapsed": false
   },
   "outputs": [
    {
     "name": "stderr",
     "output_type": "stream",
     "text": [
      "100%|██████████| 6/6 [11:28<00:00, 108.24s/it]\n"
     ]
    }
   ],
   "source": [
    "spw_1, spw_2 = 0.62, 0.58\n",
    "\n",
    "num_trials = int(1e5)\n",
    "\n",
    "simulation_results = dict()\n",
    "\n",
    "for system_num, key in tqdm(system_nums.items()):\n",
    "    \n",
    "    system_fn = systems[key]\n",
    "    \n",
    "    results = run_trials(system_fn, spw_1, spw_2, num_trials=num_trials)\n",
    "    \n",
    "    simulation_results[system_num] = calculate_barnett_stats(results)\n",
    "    \n",
    "simulation_results = pd.DataFrame(simulation_results)"
   ]
  },
  {
   "cell_type": "code",
   "execution_count": 10,
   "metadata": {
    "collapsed": false
   },
   "outputs": [
    {
     "data": {
      "text/html": [
       "<div>\n",
       "<table border=\"1\" class=\"dataframe\">\n",
       "  <thead>\n",
       "    <tr style=\"text-align: right;\">\n",
       "      <th></th>\n",
       "      <th>4</th>\n",
       "      <th>5</th>\n",
       "      <th>6</th>\n",
       "      <th>7</th>\n",
       "      <th>8</th>\n",
       "      <th>9</th>\n",
       "    </tr>\n",
       "  </thead>\n",
       "  <tbody>\n",
       "    <tr>\n",
       "      <th>98th_pts</th>\n",
       "      <td>0.000000</td>\n",
       "      <td>2.000000</td>\n",
       "      <td>1.000000</td>\n",
       "      <td>0.00000</td>\n",
       "      <td>1.000000</td>\n",
       "      <td>1.000000</td>\n",
       "    </tr>\n",
       "    <tr>\n",
       "      <th>mean_pts</th>\n",
       "      <td>-0.024550</td>\n",
       "      <td>-0.011890</td>\n",
       "      <td>0.219740</td>\n",
       "      <td>0.08586</td>\n",
       "      <td>-0.124740</td>\n",
       "      <td>-0.120580</td>\n",
       "    </tr>\n",
       "    <tr>\n",
       "      <th>p(A)</th>\n",
       "      <td>-0.001650</td>\n",
       "      <td>-0.000410</td>\n",
       "      <td>-0.001120</td>\n",
       "      <td>-0.00215</td>\n",
       "      <td>0.004020</td>\n",
       "      <td>-0.000520</td>\n",
       "    </tr>\n",
       "    <tr>\n",
       "      <th>std_pts</th>\n",
       "      <td>0.100666</td>\n",
       "      <td>-0.111374</td>\n",
       "      <td>0.156138</td>\n",
       "      <td>-0.01679</td>\n",
       "      <td>-0.032221</td>\n",
       "      <td>-0.041073</td>\n",
       "    </tr>\n",
       "  </tbody>\n",
       "</table>\n",
       "</div>"
      ],
      "text/plain": [
       "                 4         5         6        7         8         9\n",
       "98th_pts  0.000000  2.000000  1.000000  0.00000  1.000000  1.000000\n",
       "mean_pts -0.024550 -0.011890  0.219740  0.08586 -0.124740 -0.120580\n",
       "p(A)     -0.001650 -0.000410 -0.001120 -0.00215  0.004020 -0.000520\n",
       "std_pts   0.100666 -0.111374  0.156138 -0.01679 -0.032221 -0.041073"
      ]
     },
     "execution_count": 10,
     "metadata": {},
     "output_type": "execute_result"
    }
   ],
   "source": [
    "# Add Barnett results for 0.62 0.58\n",
    "\n",
    "# (i): p(A)\n",
    "# (ii): mean pts\n",
    "# (iii): std pts\n",
    "# (iv): n/a\n",
    "# (v): 98th\n",
    "\n",
    "if spw_1 == 0.62 and spw_2 == 0.58:\n",
    "\n",
    "    b_62 = dict()\n",
    "\n",
    "    b_62[4] = {'p(A)': 0.743, 'mean_pts': 262.1, 'std_pts': 63.6,\n",
    "               '98th_pts': 395}\n",
    "\n",
    "    b_62[5] = {'p(A)': 0.701, 'mean_pts': 161.6, 'std_pts': 44.6,\n",
    "               '98th_pts': 261}\n",
    "\n",
    "    b_62[6] = {'p(A)': 0.741, 'mean_pts': 261.0, 'std_pts': 61.6,\n",
    "               '98th_pts': 383}\n",
    "\n",
    "    b_62[7] = {'p(A)': 0.697, 'mean_pts': 160.0, 'std_pts': 41.4,\n",
    "               '98th_pts': 246}\n",
    "\n",
    "    b_62[8] = {'p(A)': 0.670, 'mean_pts': 137.8, 'std_pts': 24.5,\n",
    "               '98th_pts': 191}\n",
    "\n",
    "    b_62[9] = {'p(A)': 0.658, 'mean_pts': 122.0, 'std_pts': 20.5,\n",
    "               '98th_pts': 166}\n",
    "\n",
    "    b_62 = pd.DataFrame(b_62)\n",
    "    \n",
    "    differences = simulation_results - b_62\n",
    "    \n",
    "else:\n",
    "    \n",
    "    differences = None\n",
    "    \n",
    "differences"
   ]
  },
  {
   "cell_type": "code",
   "execution_count": 11,
   "metadata": {
    "collapsed": false
   },
   "outputs": [
    {
     "data": {
      "text/html": [
       "<div>\n",
       "<table border=\"1\" class=\"dataframe\">\n",
       "  <thead>\n",
       "    <tr style=\"text-align: right;\">\n",
       "      <th></th>\n",
       "      <th>4</th>\n",
       "      <th>5</th>\n",
       "      <th>6</th>\n",
       "      <th>7</th>\n",
       "      <th>8</th>\n",
       "      <th>9</th>\n",
       "    </tr>\n",
       "  </thead>\n",
       "  <tbody>\n",
       "    <tr>\n",
       "      <th>98th_pts</th>\n",
       "      <td>0.000000</td>\n",
       "      <td>0.766284</td>\n",
       "      <td>0.261097</td>\n",
       "      <td>0.000000</td>\n",
       "      <td>0.523560</td>\n",
       "      <td>0.602410</td>\n",
       "    </tr>\n",
       "    <tr>\n",
       "      <th>mean_pts</th>\n",
       "      <td>-0.009367</td>\n",
       "      <td>-0.007358</td>\n",
       "      <td>0.084192</td>\n",
       "      <td>0.053662</td>\n",
       "      <td>-0.090522</td>\n",
       "      <td>-0.098836</td>\n",
       "    </tr>\n",
       "    <tr>\n",
       "      <th>p(A)</th>\n",
       "      <td>-0.222073</td>\n",
       "      <td>-0.058488</td>\n",
       "      <td>-0.151147</td>\n",
       "      <td>-0.308465</td>\n",
       "      <td>0.600000</td>\n",
       "      <td>-0.079027</td>\n",
       "    </tr>\n",
       "    <tr>\n",
       "      <th>std_pts</th>\n",
       "      <td>0.158280</td>\n",
       "      <td>-0.249718</td>\n",
       "      <td>0.253470</td>\n",
       "      <td>-0.040556</td>\n",
       "      <td>-0.131516</td>\n",
       "      <td>-0.200357</td>\n",
       "    </tr>\n",
       "  </tbody>\n",
       "</table>\n",
       "</div>"
      ],
      "text/plain": [
       "                 4         5         6         7         8         9\n",
       "98th_pts  0.000000  0.766284  0.261097  0.000000  0.523560  0.602410\n",
       "mean_pts -0.009367 -0.007358  0.084192  0.053662 -0.090522 -0.098836\n",
       "p(A)     -0.222073 -0.058488 -0.151147 -0.308465  0.600000 -0.079027\n",
       "std_pts   0.158280 -0.249718  0.253470 -0.040556 -0.131516 -0.200357"
      ]
     },
     "execution_count": 11,
     "metadata": {},
     "output_type": "execute_result"
    }
   ],
   "source": [
    "# Percentage differences\n",
    "\n",
    "(differences / b_62) * 100"
   ]
  },
  {
   "cell_type": "markdown",
   "metadata": {},
   "source": [
    "Again, the differences look small."
   ]
  }
 ],
 "metadata": {
  "anaconda-cloud": {},
  "kernelspec": {
   "display_name": "Python [py2]",
   "language": "python",
   "name": "Python [py2]"
  },
  "language_info": {
   "codemirror_mode": {
    "name": "ipython",
    "version": 2
   },
   "file_extension": ".py",
   "mimetype": "text/x-python",
   "name": "python",
   "nbconvert_exporter": "python",
   "pygments_lexer": "ipython2",
   "version": "2.7.12"
  }
 },
 "nbformat": 4,
 "nbformat_minor": 0
}
