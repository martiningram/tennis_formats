{
 "cells": [
  {
   "cell_type": "code",
   "execution_count": 6,
   "metadata": {
    "collapsed": false
   },
   "outputs": [],
   "source": [
    "import pyximport; pyximport.install()\n",
    "import matplotlib.pyplot as plt\n",
    "import numpy as np\n",
    "import pandas as pd\n",
    "import seaborn as sns\n",
    "import set_types\n",
    "import monte_carlo\n",
    "from simulate import get_systems, run_trials\n",
    "from tqdm import tqdm\n",
    "\n",
    "%matplotlib inline"
   ]
  },
  {
   "cell_type": "markdown",
   "metadata": {},
   "source": [
    "# Reproduce Tristan Barnett Results\n",
    "\n",
    "The goal of this notebook is to compare simulation results against those published in:\n",
    "\n",
    "http://strategicgames.com.au/article32.pdf\n",
    "\n",
    "## Standard scoring systems"
   ]
  },
  {
   "cell_type": "code",
   "execution_count": 7,
   "metadata": {
    "collapsed": false
   },
   "outputs": [
    {
     "name": "stdout",
     "output_type": "stream",
     "text": [
      "['iptl_bo5', 'wta_wimbledon', 'atp_us_open', 'iptl_bo3', 'fast_four_singles', 'fast_four_doubles', 'doubles', 'atp_wimbledon', 'wta_us_open']\n"
     ]
    }
   ],
   "source": [
    "systems = get_systems()\n",
    "\n",
    "print(systems.keys())"
   ]
  },
  {
   "cell_type": "code",
   "execution_count": 8,
   "metadata": {
    "collapsed": true
   },
   "outputs": [],
   "source": [
    "# Match up with Tristan's numbering:\n",
    "system_nums = {4: 'atp_wimbledon', 5: 'wta_wimbledon',\n",
    "               6: 'atp_us_open', 7: 'wta_us_open', \n",
    "               9: 'doubles'}"
   ]
  },
  {
   "cell_type": "code",
   "execution_count": 9,
   "metadata": {
    "collapsed": true
   },
   "outputs": [],
   "source": [
    "def calculate_barnett_stats(sim_df):\n",
    "    \n",
    "    better_won = sim_df['better_won'].mean()\n",
    "    pts_mean = sim_df['total_points'].mean()\n",
    "    pts_std = sim_df['total_points'].std()\n",
    "    pts_98 = np.percentile(sim_df['total_points'].values, 98)\n",
    "    \n",
    "    return {'p(A)': better_won, 'mean_pts': pts_mean,\n",
    "            'std_pts': pts_std, '98th_pts': pts_98}"
   ]
  },
  {
   "cell_type": "code",
   "execution_count": 10,
   "metadata": {
    "collapsed": false
   },
   "outputs": [
    {
     "name": "stderr",
     "output_type": "stream",
     "text": [
      "100%|██████████| 5/5 [11:53<00:00, 134.34s/it]\n"
     ]
    }
   ],
   "source": [
    "spw_1, spw_2 = 0.77, 0.73\n",
    "\n",
    "num_trials = int(1e5)\n",
    "\n",
    "simulation_results = dict()\n",
    "\n",
    "for system_num, key in tqdm(system_nums.items()):\n",
    "    \n",
    "    system_fn = systems[key]\n",
    "    \n",
    "    results = run_trials(system_fn, spw_1, spw_2, num_trials=num_trials)\n",
    "    \n",
    "    simulation_results[system_num] = calculate_barnett_stats(results)\n",
    "    \n",
    "simulation_results = pd.DataFrame(simulation_results)"
   ]
  },
  {
   "cell_type": "code",
   "execution_count": 11,
   "metadata": {
    "collapsed": false
   },
   "outputs": [
    {
     "data": {
      "text/html": [
       "<div>\n",
       "<table border=\"1\" class=\"dataframe\">\n",
       "  <thead>\n",
       "    <tr style=\"text-align: right;\">\n",
       "      <th></th>\n",
       "      <th>4</th>\n",
       "      <th>5</th>\n",
       "      <th>6</th>\n",
       "      <th>7</th>\n",
       "      <th>9</th>\n",
       "    </tr>\n",
       "  </thead>\n",
       "  <tbody>\n",
       "    <tr>\n",
       "      <th>98th_pts</th>\n",
       "      <td>578.000000</td>\n",
       "      <td>474.000000</td>\n",
       "      <td>385.000000</td>\n",
       "      <td>242.000000</td>\n",
       "      <td>172.000000</td>\n",
       "    </tr>\n",
       "    <tr>\n",
       "      <th>mean_pts</th>\n",
       "      <td>290.365870</td>\n",
       "      <td>191.875030</td>\n",
       "      <td>271.913320</td>\n",
       "      <td>166.342990</td>\n",
       "      <td>131.485260</td>\n",
       "    </tr>\n",
       "    <tr>\n",
       "      <th>p(A)</th>\n",
       "      <td>0.722400</td>\n",
       "      <td>0.691320</td>\n",
       "      <td>0.710080</td>\n",
       "      <td>0.668890</td>\n",
       "      <td>0.658850</td>\n",
       "    </tr>\n",
       "    <tr>\n",
       "      <th>std_pts</th>\n",
       "      <td>99.625146</td>\n",
       "      <td>92.561551</td>\n",
       "      <td>60.681289</td>\n",
       "      <td>40.293794</td>\n",
       "      <td>20.408128</td>\n",
       "    </tr>\n",
       "  </tbody>\n",
       "</table>\n",
       "</div>"
      ],
      "text/plain": [
       "                   4           5           6           7           9\n",
       "98th_pts  578.000000  474.000000  385.000000  242.000000  172.000000\n",
       "mean_pts  290.365870  191.875030  271.913320  166.342990  131.485260\n",
       "p(A)        0.722400    0.691320    0.710080    0.668890    0.658850\n",
       "std_pts    99.625146   92.561551   60.681289   40.293794   20.408128"
      ]
     },
     "execution_count": 11,
     "metadata": {},
     "output_type": "execute_result"
    }
   ],
   "source": [
    "simulation_results"
   ]
  },
  {
   "cell_type": "code",
   "execution_count": 12,
   "metadata": {
    "collapsed": false
   },
   "outputs": [
    {
     "data": {
      "text/html": [
       "<div>\n",
       "<table border=\"1\" class=\"dataframe\">\n",
       "  <thead>\n",
       "    <tr style=\"text-align: right;\">\n",
       "      <th></th>\n",
       "      <th>4</th>\n",
       "      <th>5</th>\n",
       "      <th>6</th>\n",
       "      <th>7</th>\n",
       "      <th>8</th>\n",
       "      <th>9</th>\n",
       "    </tr>\n",
       "  </thead>\n",
       "  <tbody>\n",
       "    <tr>\n",
       "      <th>98th_pts</th>\n",
       "      <td>-4.000000</td>\n",
       "      <td>-6.000000</td>\n",
       "      <td>0.000000</td>\n",
       "      <td>-1.000000</td>\n",
       "      <td>NaN</td>\n",
       "      <td>-2.000000</td>\n",
       "    </tr>\n",
       "    <tr>\n",
       "      <th>mean_pts</th>\n",
       "      <td>0.065870</td>\n",
       "      <td>-0.224970</td>\n",
       "      <td>-0.086680</td>\n",
       "      <td>0.042990</td>\n",
       "      <td>NaN</td>\n",
       "      <td>-0.014740</td>\n",
       "    </tr>\n",
       "    <tr>\n",
       "      <th>p(A)</th>\n",
       "      <td>-0.000600</td>\n",
       "      <td>0.001320</td>\n",
       "      <td>0.002080</td>\n",
       "      <td>-0.000110</td>\n",
       "      <td>NaN</td>\n",
       "      <td>0.000850</td>\n",
       "    </tr>\n",
       "    <tr>\n",
       "      <th>std_pts</th>\n",
       "      <td>0.125146</td>\n",
       "      <td>-0.538449</td>\n",
       "      <td>-0.018711</td>\n",
       "      <td>-0.006206</td>\n",
       "      <td>NaN</td>\n",
       "      <td>-0.091872</td>\n",
       "    </tr>\n",
       "  </tbody>\n",
       "</table>\n",
       "</div>"
      ],
      "text/plain": [
       "                 4         5         6         7   8         9\n",
       "98th_pts -4.000000 -6.000000  0.000000 -1.000000 NaN -2.000000\n",
       "mean_pts  0.065870 -0.224970 -0.086680  0.042990 NaN -0.014740\n",
       "p(A)     -0.000600  0.001320  0.002080 -0.000110 NaN  0.000850\n",
       "std_pts   0.125146 -0.538449 -0.018711 -0.006206 NaN -0.091872"
      ]
     },
     "execution_count": 12,
     "metadata": {},
     "output_type": "execute_result"
    }
   ],
   "source": [
    "# Add Barnett results for 0.77 0.73\n",
    "\n",
    "# (i): p(A)\n",
    "# (ii): mean pts\n",
    "# (iii): std pts\n",
    "# (iv): n/a\n",
    "# (v): 98th\n",
    "\n",
    "if spw_1 == 0.77 and spw_2 == 0.73:\n",
    "\n",
    "    b_77 = dict()\n",
    "\n",
    "    b_77[4] = {'p(A)': 0.723, 'mean_pts': 290.3, 'std_pts': 99.5,\n",
    "               '98th_pts': 582}\n",
    "\n",
    "    b_77[5] = {'p(A)': 0.690, 'mean_pts': 192.1, 'std_pts': 93.1,\n",
    "               '98th_pts': 480}\n",
    "\n",
    "    b_77[6] = {'p(A)': 0.708, 'mean_pts': 272.0, 'std_pts': 60.7,\n",
    "               '98th_pts': 385}\n",
    "\n",
    "    b_77[7] = {'p(A)': 0.669, 'mean_pts': 166.3, 'std_pts': 40.3,\n",
    "               '98th_pts': 243}\n",
    "\n",
    "    b_77[8] = {'p(A)': 0.656, 'mean_pts': 142.8, 'std_pts': 21.8,\n",
    "               '98th_pts': 187}\n",
    "\n",
    "    b_77[9] = {'p(A)': 0.658, 'mean_pts': 131.5, 'std_pts': 20.5,\n",
    "               '98th_pts': 174}\n",
    "\n",
    "    b_77 = pd.DataFrame(b_77)\n",
    "    \n",
    "    differences = simulation_results - b_77\n",
    "    \n",
    "else:\n",
    "    \n",
    "    differences = None\n",
    "    \n",
    "differences"
   ]
  },
  {
   "cell_type": "code",
   "execution_count": 15,
   "metadata": {
    "collapsed": false
   },
   "outputs": [
    {
     "data": {
      "text/plain": [
       "<matplotlib.axes._subplots.AxesSubplot at 0x1237bf610>"
      ]
     },
     "execution_count": 15,
     "metadata": {},
     "output_type": "execute_result"
    },
    {
     "data": {
      "image/png": "[encoded data removed]",
      "text/plain": [
       "<matplotlib.figure.Figure at 0x126a20ed0>"
      ]
     },
     "metadata": {},
     "output_type": "display_data"
    }
   ],
   "source": [
    "# Percentage differences\n",
    "\n",
    "((differences / b_77) * 100).plot(kind='bar')"
   ]
  },
  {
   "cell_type": "markdown",
   "metadata": {},
   "source": [
    "## Conclusions\n",
    "\n",
    "The differences seem to be at around 1% or less, indicating fairly good agreement between the simulation and the paper."
   ]
  },
  {
   "cell_type": "markdown",
   "metadata": {},
   "source": [
    "## Comparison for other spw"
   ]
  },
  {
   "cell_type": "code",
   "execution_count": null,
   "metadata": {
    "collapsed": false
   },
   "outputs": [],
   "source": [
    "spw_1, spw_2 = 0.62, 0.58\n",
    "\n",
    "num_trials = int(1e5)\n",
    "\n",
    "simulation_results = dict()\n",
    "\n",
    "for system_num, key in tqdm(system_nums.items()):\n",
    "    \n",
    "    system_fn = systems[key]\n",
    "    \n",
    "    results = run_trials(system_fn, spw_1, spw_2, num_trials=num_trials)\n",
    "    \n",
    "    simulation_results[system_num] = calculate_barnett_stats(results)\n",
    "    \n",
    "simulation_results = pd.DataFrame(simulation_results)"
   ]
  },
  {
   "cell_type": "code",
   "execution_count": null,
   "metadata": {
    "collapsed": false
   },
   "outputs": [],
   "source": [
    "# Add Barnett results for 0.62 0.58\n",
    "\n",
    "# (i): p(A)\n",
    "# (ii): mean pts\n",
    "# (iii): std pts\n",
    "# (iv): n/a\n",
    "# (v): 98th\n",
    "\n",
    "if spw_1 == 0.62 and spw_2 == 0.58:\n",
    "\n",
    "    b_62 = dict()\n",
    "\n",
    "    b_62[4] = {'p(A)': 0.743, 'mean_pts': 262.1, 'std_pts': 63.6,\n",
    "               '98th_pts': 395}\n",
    "\n",
    "    b_62[5] = {'p(A)': 0.701, 'mean_pts': 161.6, 'std_pts': 44.6,\n",
    "               '98th_pts': 261}\n",
    "\n",
    "    b_62[6] = {'p(A)': 0.741, 'mean_pts': 261.0, 'std_pts': 61.6,\n",
    "               '98th_pts': 383}\n",
    "\n",
    "    b_62[7] = {'p(A)': 0.697, 'mean_pts': 160.0, 'std_pts': 41.4,\n",
    "               '98th_pts': 246}\n",
    "\n",
    "    b_62[8] = {'p(A)': 0.670, 'mean_pts': 137.8, 'std_pts': 24.5,\n",
    "               '98th_pts': 191}\n",
    "\n",
    "    b_62[9] = {'p(A)': 0.658, 'mean_pts': 122.0, 'std_pts': 20.5,\n",
    "               '98th_pts': 166}\n",
    "\n",
    "    b_62 = pd.DataFrame(b_62)\n",
    "    \n",
    "    differences = simulation_results - b_62\n",
    "    \n",
    "else:\n",
    "    \n",
    "    differences = None\n",
    "    \n",
    "differences"
   ]
  },
  {
   "cell_type": "code",
   "execution_count": null,
   "metadata": {
    "collapsed": false
   },
   "outputs": [],
   "source": [
    "# Percentage differences\n",
    "\n",
    "(differences / b_62) * 100"
   ]
  },
  {
   "cell_type": "markdown",
   "metadata": {},
   "source": [
    "Again, the differences look small."
   ]
  }
 ],
 "metadata": {
  "anaconda-cloud": {},
  "kernelspec": {
   "display_name": "Python 2",
   "language": "python",
   "name": "python2"
  },
  "language_info": {
   "codemirror_mode": {
    "name": "ipython",
    "version": 2
   },
   "file_extension": ".py",
   "mimetype": "text/x-python",
   "name": "python",
   "nbconvert_exporter": "python",
   "pygments_lexer": "ipython2",
   "version": "2.7.13"
  }
 },
 "nbformat": 4,
 "nbformat_minor": 0
}
