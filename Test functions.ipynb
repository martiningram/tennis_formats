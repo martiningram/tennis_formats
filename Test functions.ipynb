{
 "cells": [
  {
   "cell_type": "code",
   "execution_count": 7,
   "metadata": {
    "collapsed": false
   },
   "outputs": [],
   "source": [
    "import pyximport; pyximport.install()\n",
    "import matplotlib.pyplot as plt\n",
    "import numpy as np\n",
    "import pandas as pd\n",
    "import seaborn as sns\n",
    "import set_types\n",
    "import monte_carlo\n",
    "from tqdm import tqdm\n",
    "\n",
    "%matplotlib inline"
   ]
  },
  {
   "cell_type": "markdown",
   "metadata": {},
   "source": [
    "# Reproduce Tristan Barnett Results\n",
    "\n",
    "## Standard scoring systems"
   ]
  },
  {
   "cell_type": "code",
   "execution_count": 2,
   "metadata": {
    "collapsed": false
   },
   "outputs": [],
   "source": [
    "spw_1, spw_2 = 0.77, 0.73\n",
    "\n",
    "final_set_no_tb = lambda win_probs: set_types.play_standard_set(win_probs, has_tiebreak=False)\n",
    "final_set_with_tb = lambda win_probs: set_types.play_standard_set(win_probs, has_tiebreak=True)\n",
    "\n",
    "system_4 = lambda spw_1, spw_2: set_types.best_of(\n",
    "    set_types.play_standard_set, [spw_1, spw_2], \n",
    "    5, final_set_fun=final_set_no_tb)\n",
    "\n",
    "system_5 = lambda spw_1, spw_2: set_types.best_of(\n",
    "    set_types.play_standard_set, [spw_1, spw_2], \n",
    "    3, final_set_fun=final_set_no_tb)\n",
    "\n",
    "system_6 = lambda spw_1, spw_2: set_types.best_of(\n",
    "    set_types.play_standard_set, [spw_1, spw_2], \n",
    "    5, final_set_fun=final_set_with_tb)\n",
    "\n",
    "system_7 = lambda spw_1, spw_2: set_types.best_of(\n",
    "    set_types.play_standard_set, [spw_1, spw_2], \n",
    "    3, final_set_fun=final_set_with_tb)\n",
    "\n",
    "system_8 = lambda spw_1, spw_2: set_types.best_of(\n",
    "    set_types.play_standard_set, [spw_1, spw_2], \n",
    "    3, final_set_fun=set_types.super_tb)\n",
    "\n",
    "system_9 = lambda spw_1, spw_2: set_types.best_of(\n",
    "    lambda win_probs: \n",
    "    set_types.play_standard_set(win_probs, service_game_ad=False), \n",
    "    [spw_1, spw_2], \n",
    "    3, final_set_fun=set_types.super_tb)\n",
    "\n",
    "all_systems = {4: system_4, 5: system_5, 6: system_6, 7: system_7,\n",
    "               8: system_8, 9: system_9}"
   ]
  },
  {
   "cell_type": "code",
   "execution_count": 10,
   "metadata": {
    "collapsed": false
   },
   "outputs": [
    {
     "name": "stderr",
     "output_type": "stream",
     "text": [
      "100%|██████████| 6/6 [13:30<00:00, 126.81s/it]\n"
     ]
    }
   ],
   "source": [
    "num_trials = int(1e5)\n",
    "\n",
    "system_results = dict()\n",
    "\n",
    "for num, fn in tqdm(all_systems.items()):\n",
    "    \n",
    "    num_pts = list()\n",
    "    p1_won = list()\n",
    "    \n",
    "    for i in range(num_trials):\n",
    "        \n",
    "        if np.random.choice([0, 1]) == 0:\n",
    "        \n",
    "            result = fn(spw_1, spw_2)\n",
    "\n",
    "            p1_won.append(result.final_score[0] > result.final_score[1])\n",
    "            \n",
    "        else:\n",
    "            \n",
    "            result = fn(spw_2, spw_1)\n",
    "            \n",
    "            p1_won.append(result.final_score[0] < result.final_score[1])\n",
    "            \n",
    "        num_pts.append(result.total_points)\n",
    "        \n",
    "    better_won = np.mean(p1_won)\n",
    "    mean_pts = np.mean(num_pts)\n",
    "    std_pts = np.std(num_pts)\n",
    "    pct_98 = np.percentile(num_pts, 98)\n",
    "        \n",
    "    system_results[num] = {'better_won': better_won,\n",
    "                           'mean_pts': mean_pts,\n",
    "                           'std_pts': std_pts,\n",
    "                           '98th': pct_98}"
   ]
  },
  {
   "cell_type": "code",
   "execution_count": 11,
   "metadata": {
    "collapsed": false
   },
   "outputs": [
    {
     "data": {
      "text/html": [
       "<div>\n",
       "<table border=\"1\" class=\"dataframe\">\n",
       "  <thead>\n",
       "    <tr style=\"text-align: right;\">\n",
       "      <th></th>\n",
       "      <th>4</th>\n",
       "      <th>5</th>\n",
       "      <th>6</th>\n",
       "      <th>7</th>\n",
       "      <th>8</th>\n",
       "      <th>9</th>\n",
       "    </tr>\n",
       "  </thead>\n",
       "  <tbody>\n",
       "    <tr>\n",
       "      <th>98th</th>\n",
       "      <td>579.000000</td>\n",
       "      <td>474.000000</td>\n",
       "      <td>385.000000</td>\n",
       "      <td>242.000000</td>\n",
       "      <td>186.000000</td>\n",
       "      <td>173.000000</td>\n",
       "    </tr>\n",
       "    <tr>\n",
       "      <th>better_won</th>\n",
       "      <td>0.725280</td>\n",
       "      <td>0.687740</td>\n",
       "      <td>0.708620</td>\n",
       "      <td>0.668100</td>\n",
       "      <td>0.655360</td>\n",
       "      <td>0.659150</td>\n",
       "    </tr>\n",
       "    <tr>\n",
       "      <th>mean_pts</th>\n",
       "      <td>290.334430</td>\n",
       "      <td>192.188900</td>\n",
       "      <td>272.071440</td>\n",
       "      <td>166.297450</td>\n",
       "      <td>142.860700</td>\n",
       "      <td>131.460450</td>\n",
       "    </tr>\n",
       "    <tr>\n",
       "      <th>std_pts</th>\n",
       "      <td>100.129184</td>\n",
       "      <td>92.925892</td>\n",
       "      <td>60.850896</td>\n",
       "      <td>40.227911</td>\n",
       "      <td>21.698239</td>\n",
       "      <td>20.510174</td>\n",
       "    </tr>\n",
       "  </tbody>\n",
       "</table>\n",
       "</div>"
      ],
      "text/plain": [
       "                     4           5           6           7           8  \\\n",
       "98th        579.000000  474.000000  385.000000  242.000000  186.000000   \n",
       "better_won    0.725280    0.687740    0.708620    0.668100    0.655360   \n",
       "mean_pts    290.334430  192.188900  272.071440  166.297450  142.860700   \n",
       "std_pts     100.129184   92.925892   60.850896   40.227911   21.698239   \n",
       "\n",
       "                     9  \n",
       "98th        173.000000  \n",
       "better_won    0.659150  \n",
       "mean_pts    131.460450  \n",
       "std_pts      20.510174  "
      ]
     },
     "execution_count": 11,
     "metadata": {},
     "output_type": "execute_result"
    }
   ],
   "source": [
    "pd.DataFrame(system_results)"
   ]
  },
  {
   "cell_type": "code",
   "execution_count": null,
   "metadata": {
    "collapsed": true
   },
   "outputs": [],
   "source": []
  }
 ],
 "metadata": {
  "anaconda-cloud": {},
  "kernelspec": {
   "display_name": "Python [py2]",
   "language": "python",
   "name": "Python [py2]"
  },
  "language_info": {
   "codemirror_mode": {
    "name": "ipython",
    "version": 2
   },
   "file_extension": ".py",
   "mimetype": "text/x-python",
   "name": "python",
   "nbconvert_exporter": "python",
   "pygments_lexer": "ipython2",
   "version": "2.7.12"
  }
 },
 "nbformat": 4,
 "nbformat_minor": 0
}
