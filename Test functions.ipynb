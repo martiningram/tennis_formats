{
 "cells": [
  {
   "cell_type": "code",
   "execution_count": 1,
   "metadata": {
    "collapsed": false
   },
   "outputs": [],
   "source": [
    "import pyximport; pyximport.install()\n",
    "import matplotlib.pyplot as plt\n",
    "import numpy as np\n",
    "import pandas as pd\n",
    "import seaborn as sns\n",
    "import set_types\n",
    "import monte_carlo\n",
    "from simulate import get_systems, run_trials\n",
    "from tqdm import tqdm\n",
    "\n",
    "%matplotlib inline"
   ]
  },
  {
   "cell_type": "markdown",
   "metadata": {},
   "source": [
    "# Reproduce Tristan Barnett Results\n",
    "\n",
    "## Standard scoring systems"
   ]
  },
  {
   "cell_type": "code",
   "execution_count": 2,
   "metadata": {
    "collapsed": false
   },
   "outputs": [
    {
     "name": "stdout",
     "output_type": "stream",
     "text": [
      "['wta_wimbledon', 'atp_us_open', 'fast_four_singles', 'fast_four_doubles', 'doubles', 'atp_wimbledon', 'mixed_doubles_fo', 'wta_us_open']\n"
     ]
    }
   ],
   "source": [
    "spw_1, spw_2 = 0.77, 0.73\n",
    "\n",
    "systems = get_systems()\n",
    "\n",
    "print(systems.keys())"
   ]
  },
  {
   "cell_type": "code",
   "execution_count": 3,
   "metadata": {
    "collapsed": true
   },
   "outputs": [],
   "source": [
    "# Match up with Tristan's numbering:\n",
    "system_nums = {4: 'atp_wimbledon', 5: 'wta_wimbledon',\n",
    "               6: 'atp_us_open', 7: 'wta_us_open',\n",
    "               8: 'mixed_doubles_fo', 9: 'doubles'}"
   ]
  },
  {
   "cell_type": "code",
   "execution_count": 4,
   "metadata": {
    "collapsed": true
   },
   "outputs": [],
   "source": [
    "def calculate_barnett_stats(sim_df):\n",
    "    \n",
    "    better_won = sim_df['better_won'].mean()\n",
    "    pts_mean = sim_df['total_points'].mean()\n",
    "    pts_std = sim_df['total_points'].std()\n",
    "    pts_98 = np.percentile(sim_df['total_points'].values, 98)\n",
    "    \n",
    "    return {'p(A)': better_won, 'mean_pts': pts_mean,\n",
    "            'std_pts': pts_std, '98th_pts': pts_98}"
   ]
  },
  {
   "cell_type": "code",
   "execution_count": 5,
   "metadata": {
    "collapsed": false
   },
   "outputs": [
    {
     "name": "stderr",
     "output_type": "stream",
     "text": [
      "100%|██████████| 6/6 [01:24<00:00, 12.91s/it]\n"
     ]
    }
   ],
   "source": [
    "num_trials = int(1e4)\n",
    "\n",
    "simulation_results = dict()\n",
    "\n",
    "for system_num, key in tqdm(system_nums.items()):\n",
    "    \n",
    "    system_fn = systems[key]\n",
    "    \n",
    "    results = run_trials(system_fn, spw_1, spw_2, num_trials=num_trials)\n",
    "    \n",
    "    simulation_results[system_num] = calculate_barnett_stats(results)\n",
    "    \n",
    "simulation_results = pd.DataFrame(simulation_results)"
   ]
  },
  {
   "cell_type": "code",
   "execution_count": 6,
   "metadata": {
    "collapsed": false
   },
   "outputs": [
    {
     "data": {
      "text/html": [
       "<div>\n",
       "<table border=\"1\" class=\"dataframe\">\n",
       "  <thead>\n",
       "    <tr style=\"text-align: right;\">\n",
       "      <th></th>\n",
       "      <th>4</th>\n",
       "      <th>5</th>\n",
       "      <th>6</th>\n",
       "      <th>7</th>\n",
       "      <th>8</th>\n",
       "      <th>9</th>\n",
       "    </tr>\n",
       "  </thead>\n",
       "  <tbody>\n",
       "    <tr>\n",
       "      <th>98th_pts</th>\n",
       "      <td>581.0200</td>\n",
       "      <td>475.000000</td>\n",
       "      <td>385.000000</td>\n",
       "      <td>243.020000</td>\n",
       "      <td>185.000000</td>\n",
       "      <td>173.000000</td>\n",
       "    </tr>\n",
       "    <tr>\n",
       "      <th>mean_pts</th>\n",
       "      <td>289.4725</td>\n",
       "      <td>191.947800</td>\n",
       "      <td>272.152100</td>\n",
       "      <td>166.502000</td>\n",
       "      <td>143.081800</td>\n",
       "      <td>131.180600</td>\n",
       "    </tr>\n",
       "    <tr>\n",
       "      <th>p(A)</th>\n",
       "      <td>0.7250</td>\n",
       "      <td>0.690900</td>\n",
       "      <td>0.704500</td>\n",
       "      <td>0.663800</td>\n",
       "      <td>0.664200</td>\n",
       "      <td>0.655300</td>\n",
       "    </tr>\n",
       "    <tr>\n",
       "      <th>std_pts</th>\n",
       "      <td>98.5548</td>\n",
       "      <td>93.426881</td>\n",
       "      <td>60.745111</td>\n",
       "      <td>40.537902</td>\n",
       "      <td>21.611946</td>\n",
       "      <td>20.378545</td>\n",
       "    </tr>\n",
       "  </tbody>\n",
       "</table>\n",
       "</div>"
      ],
      "text/plain": [
       "                 4           5           6           7           8           9\n",
       "98th_pts  581.0200  475.000000  385.000000  243.020000  185.000000  173.000000\n",
       "mean_pts  289.4725  191.947800  272.152100  166.502000  143.081800  131.180600\n",
       "p(A)        0.7250    0.690900    0.704500    0.663800    0.664200    0.655300\n",
       "std_pts    98.5548   93.426881   60.745111   40.537902   21.611946   20.378545"
      ]
     },
     "execution_count": 6,
     "metadata": {},
     "output_type": "execute_result"
    }
   ],
   "source": [
    "simulation_results"
   ]
  },
  {
   "cell_type": "code",
   "execution_count": 8,
   "metadata": {
    "collapsed": false
   },
   "outputs": [
    {
     "data": {
      "text/html": [
       "<div>\n",
       "<table border=\"1\" class=\"dataframe\">\n",
       "  <thead>\n",
       "    <tr style=\"text-align: right;\">\n",
       "      <th></th>\n",
       "      <th>4</th>\n",
       "      <th>5</th>\n",
       "      <th>6</th>\n",
       "      <th>7</th>\n",
       "      <th>8</th>\n",
       "      <th>9</th>\n",
       "    </tr>\n",
       "  </thead>\n",
       "  <tbody>\n",
       "    <tr>\n",
       "      <th>98th_pts</th>\n",
       "      <td>-0.9800</td>\n",
       "      <td>-5.000000</td>\n",
       "      <td>0.000000</td>\n",
       "      <td>0.020000</td>\n",
       "      <td>-2.000000</td>\n",
       "      <td>-1.000000</td>\n",
       "    </tr>\n",
       "    <tr>\n",
       "      <th>mean_pts</th>\n",
       "      <td>-0.8275</td>\n",
       "      <td>-0.152200</td>\n",
       "      <td>0.152100</td>\n",
       "      <td>0.202000</td>\n",
       "      <td>0.281800</td>\n",
       "      <td>-0.319400</td>\n",
       "    </tr>\n",
       "    <tr>\n",
       "      <th>p(A)</th>\n",
       "      <td>0.0020</td>\n",
       "      <td>0.000900</td>\n",
       "      <td>-0.003500</td>\n",
       "      <td>-0.005200</td>\n",
       "      <td>0.008200</td>\n",
       "      <td>-0.002700</td>\n",
       "    </tr>\n",
       "    <tr>\n",
       "      <th>std_pts</th>\n",
       "      <td>-0.9452</td>\n",
       "      <td>0.326881</td>\n",
       "      <td>0.045111</td>\n",
       "      <td>0.237902</td>\n",
       "      <td>-0.188054</td>\n",
       "      <td>-0.121455</td>\n",
       "    </tr>\n",
       "  </tbody>\n",
       "</table>\n",
       "</div>"
      ],
      "text/plain": [
       "               4         5         6         7         8         9\n",
       "98th_pts -0.9800 -5.000000  0.000000  0.020000 -2.000000 -1.000000\n",
       "mean_pts -0.8275 -0.152200  0.152100  0.202000  0.281800 -0.319400\n",
       "p(A)      0.0020  0.000900 -0.003500 -0.005200  0.008200 -0.002700\n",
       "std_pts  -0.9452  0.326881  0.045111  0.237902 -0.188054 -0.121455"
      ]
     },
     "execution_count": 8,
     "metadata": {},
     "output_type": "execute_result"
    }
   ],
   "source": [
    "# Add Barnett results for 0.77 0.73\n",
    "\n",
    "# (i): p(A)\n",
    "# (ii): mean pts\n",
    "# (iii): std pts\n",
    "# (iv): n/a\n",
    "# (v): 98th\n",
    "\n",
    "if spw_1 == 0.77 and spw_2 == 0.73:\n",
    "\n",
    "    b_77 = dict()\n",
    "\n",
    "    b_77[4] = {'p(A)': 0.723, 'mean_pts': 290.3, 'std_pts': 99.5,\n",
    "               '98th_pts': 582}\n",
    "\n",
    "    b_77[5] = {'p(A)': 0.690, 'mean_pts': 192.1, 'std_pts': 93.1,\n",
    "               '98th_pts': 480}\n",
    "\n",
    "    b_77[6] = {'p(A)': 0.708, 'mean_pts': 272.0, 'std_pts': 60.7,\n",
    "               '98th_pts': 385}\n",
    "\n",
    "    b_77[7] = {'p(A)': 0.669, 'mean_pts': 166.3, 'std_pts': 40.3,\n",
    "               '98th_pts': 243}\n",
    "\n",
    "    b_77[8] = {'p(A)': 0.656, 'mean_pts': 142.8, 'std_pts': 21.8,\n",
    "               '98th_pts': 187}\n",
    "\n",
    "    b_77[9] = {'p(A)': 0.658, 'mean_pts': 131.5, 'std_pts': 20.5,\n",
    "               '98th_pts': 174}\n",
    "\n",
    "    b_77 = pd.DataFrame(b_77)\n",
    "    \n",
    "    differences = simulation_results - b_77\n",
    "    \n",
    "else:\n",
    "    \n",
    "    differences = None\n",
    "    \n",
    "differences"
   ]
  },
  {
   "cell_type": "code",
   "execution_count": 10,
   "metadata": {
    "collapsed": false
   },
   "outputs": [
    {
     "data": {
      "text/html": [
       "<div>\n",
       "<table border=\"1\" class=\"dataframe\">\n",
       "  <thead>\n",
       "    <tr style=\"text-align: right;\">\n",
       "      <th></th>\n",
       "      <th>4</th>\n",
       "      <th>5</th>\n",
       "      <th>6</th>\n",
       "      <th>7</th>\n",
       "      <th>8</th>\n",
       "      <th>9</th>\n",
       "    </tr>\n",
       "  </thead>\n",
       "  <tbody>\n",
       "    <tr>\n",
       "      <th>98th_pts</th>\n",
       "      <td>-0.168385</td>\n",
       "      <td>-1.041667</td>\n",
       "      <td>0.000000</td>\n",
       "      <td>0.008230</td>\n",
       "      <td>-1.069519</td>\n",
       "      <td>-0.574713</td>\n",
       "    </tr>\n",
       "    <tr>\n",
       "      <th>mean_pts</th>\n",
       "      <td>-0.285050</td>\n",
       "      <td>-0.079230</td>\n",
       "      <td>0.055919</td>\n",
       "      <td>0.121467</td>\n",
       "      <td>0.197339</td>\n",
       "      <td>-0.242890</td>\n",
       "    </tr>\n",
       "    <tr>\n",
       "      <th>p(A)</th>\n",
       "      <td>0.276625</td>\n",
       "      <td>0.130435</td>\n",
       "      <td>-0.494350</td>\n",
       "      <td>-0.777280</td>\n",
       "      <td>1.250000</td>\n",
       "      <td>-0.410334</td>\n",
       "    </tr>\n",
       "    <tr>\n",
       "      <th>std_pts</th>\n",
       "      <td>-0.949950</td>\n",
       "      <td>0.351108</td>\n",
       "      <td>0.074319</td>\n",
       "      <td>0.590328</td>\n",
       "      <td>-0.862632</td>\n",
       "      <td>-0.592462</td>\n",
       "    </tr>\n",
       "  </tbody>\n",
       "</table>\n",
       "</div>"
      ],
      "text/plain": [
       "                 4         5         6         7         8         9\n",
       "98th_pts -0.168385 -1.041667  0.000000  0.008230 -1.069519 -0.574713\n",
       "mean_pts -0.285050 -0.079230  0.055919  0.121467  0.197339 -0.242890\n",
       "p(A)      0.276625  0.130435 -0.494350 -0.777280  1.250000 -0.410334\n",
       "std_pts  -0.949950  0.351108  0.074319  0.590328 -0.862632 -0.592462"
      ]
     },
     "execution_count": 10,
     "metadata": {},
     "output_type": "execute_result"
    }
   ],
   "source": [
    "# Percentage differences\n",
    "\n",
    "(differences / b_77) * 100"
   ]
  },
  {
   "cell_type": "markdown",
   "metadata": {},
   "source": [
    "## Conclusions\n",
    "\n",
    "The differences seem to be at around 1% or less, indicating fairly good agreement between the simulation and the paper."
   ]
  }
 ],
 "metadata": {
  "anaconda-cloud": {},
  "kernelspec": {
   "display_name": "Python [py2]",
   "language": "python",
   "name": "Python [py2]"
  },
  "language_info": {
   "codemirror_mode": {
    "name": "ipython",
    "version": 2
   },
   "file_extension": ".py",
   "mimetype": "text/x-python",
   "name": "python",
   "nbconvert_exporter": "python",
   "pygments_lexer": "ipython2",
   "version": "2.7.12"
  }
 },
 "nbformat": 4,
 "nbformat_minor": 0
}
