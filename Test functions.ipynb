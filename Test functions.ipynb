{
 "cells": [
  {
   "cell_type": "code",
   "execution_count": 1,
   "metadata": {
    "collapsed": false
   },
   "outputs": [],
   "source": [
    "import pyximport; pyximport.install()\n",
    "import matplotlib.pyplot as plt\n",
    "import numpy as np\n",
    "import pandas as pd\n",
    "import seaborn as sns\n",
    "import set_types\n",
    "import monte_carlo\n",
    "\n",
    "%matplotlib inline"
   ]
  },
  {
   "cell_type": "markdown",
   "metadata": {},
   "source": [
    "# Reproduce Tristan Barnett Results\n",
    "\n",
    "## Standard scoring systems"
   ]
  },
  {
   "cell_type": "code",
   "execution_count": 2,
   "metadata": {
    "collapsed": false
   },
   "outputs": [],
   "source": [
    "spw_1, spw_2 = 0.77, 0.73\n",
    "\n",
    "final_set_no_tb = lambda win_probs: set_types.play_standard_set(win_probs, has_tiebreak=False)\n",
    "final_set_with_tb = lambda win_probs: set_types.play_standard_set(win_probs, has_tiebreak=True)\n",
    "\n",
    "system_4 = lambda: set_types.best_of(\n",
    "    set_types.play_standard_set, [spw_1, spw_2], \n",
    "    5, final_set_fun=final_set_no_tb)\n",
    "\n",
    "system_5 = lambda: set_types.best_of(\n",
    "    set_types.play_standard_set, [spw_1, spw_2], \n",
    "    3, final_set_fun=final_set_no_tb)\n",
    "\n",
    "system_6 = lambda: set_types.best_of(\n",
    "    set_types.play_standard_set, [spw_1, spw_2], \n",
    "    5, final_set_fun=final_set_with_tb)\n",
    "\n",
    "system_7 = lambda: set_types.best_of(\n",
    "    set_types.play_standard_set, [spw_1, spw_2], \n",
    "    3, final_set_fun=final_set_with_tb)\n",
    "\n",
    "system_8 = lambda: set_types.best_of(\n",
    "    set_types.play_standard_set, [spw_1, spw_2], \n",
    "    3, final_set_fun=set_types.super_tb)\n",
    "\n",
    "system_9 = lambda: set_types.best_of(\n",
    "    lambda win_probs: \n",
    "    set_types.play_standard_set(win_probs, service_game_ad=False), \n",
    "    [spw_1, spw_2], \n",
    "    3, final_set_fun=set_types.super_tb)\n",
    "\n",
    "all_systems = {4: system_4, 5: system_5, 6: system_6, 7: system_7,\n",
    "               8: system_8, 9: system_9}"
   ]
  },
  {
   "cell_type": "code",
   "execution_count": 5,
   "metadata": {
    "collapsed": false
   },
   "outputs": [],
   "source": [
    "num_trials = 10000\n",
    "\n",
    "system_results = dict()\n",
    "\n",
    "for num, fn in all_systems.items():\n",
    "    \n",
    "    num_pts = list()\n",
    "    p1_won = list()\n",
    "    \n",
    "    for i in range(num_trials):\n",
    "        \n",
    "        result = fn()\n",
    "        \n",
    "        num_pts.append(result.total_points)\n",
    "        \n",
    "        # Change if we vary who serves first\n",
    "        p1_won.append(result.final_score[0] > result.final_score[1])\n",
    "        \n",
    "    better_won = np.mean(p1_won)\n",
    "    mean_pts = np.mean(num_pts)\n",
    "    std_pts = np.std(num_pts)\n",
    "    pct_98 = np.percentile(num_pts, 98)\n",
    "        \n",
    "    system_results[num] = {'better_won': better_won,\n",
    "                           'mean_pts': mean_pts,\n",
    "                           'std_pts': std_pts,\n",
    "                           '98th': pct_98}"
   ]
  },
  {
   "cell_type": "code",
   "execution_count": 6,
   "metadata": {
    "collapsed": false
   },
   "outputs": [
    {
     "data": {
      "text/html": [
       "<div>\n",
       "<table border=\"1\" class=\"dataframe\">\n",
       "  <thead>\n",
       "    <tr style=\"text-align: right;\">\n",
       "      <th></th>\n",
       "      <th>4</th>\n",
       "      <th>5</th>\n",
       "      <th>6</th>\n",
       "      <th>7</th>\n",
       "      <th>8</th>\n",
       "      <th>9</th>\n",
       "    </tr>\n",
       "  </thead>\n",
       "  <tbody>\n",
       "    <tr>\n",
       "      <th>98th</th>\n",
       "      <td>569.020000</td>\n",
       "      <td>475.040000</td>\n",
       "      <td>386.000000</td>\n",
       "      <td>242.000000</td>\n",
       "      <td>185.000000</td>\n",
       "      <td>173.000000</td>\n",
       "    </tr>\n",
       "    <tr>\n",
       "      <th>better_won</th>\n",
       "      <td>0.718400</td>\n",
       "      <td>0.674900</td>\n",
       "      <td>0.709100</td>\n",
       "      <td>0.671100</td>\n",
       "      <td>0.655700</td>\n",
       "      <td>0.655800</td>\n",
       "    </tr>\n",
       "    <tr>\n",
       "      <th>mean_pts</th>\n",
       "      <td>289.264300</td>\n",
       "      <td>192.742900</td>\n",
       "      <td>273.369100</td>\n",
       "      <td>166.457300</td>\n",
       "      <td>142.466100</td>\n",
       "      <td>131.204300</td>\n",
       "    </tr>\n",
       "    <tr>\n",
       "      <th>std_pts</th>\n",
       "      <td>97.224738</td>\n",
       "      <td>93.332216</td>\n",
       "      <td>60.986727</td>\n",
       "      <td>40.187154</td>\n",
       "      <td>21.820033</td>\n",
       "      <td>20.855425</td>\n",
       "    </tr>\n",
       "  </tbody>\n",
       "</table>\n",
       "</div>"
      ],
      "text/plain": [
       "                     4           5           6           7           8  \\\n",
       "98th        569.020000  475.040000  386.000000  242.000000  185.000000   \n",
       "better_won    0.718400    0.674900    0.709100    0.671100    0.655700   \n",
       "mean_pts    289.264300  192.742900  273.369100  166.457300  142.466100   \n",
       "std_pts      97.224738   93.332216   60.986727   40.187154   21.820033   \n",
       "\n",
       "                     9  \n",
       "98th        173.000000  \n",
       "better_won    0.655800  \n",
       "mean_pts    131.204300  \n",
       "std_pts      20.855425  "
      ]
     },
     "execution_count": 6,
     "metadata": {},
     "output_type": "execute_result"
    }
   ],
   "source": [
    "pd.DataFrame(system_results)"
   ]
  },
  {
   "cell_type": "code",
   "execution_count": null,
   "metadata": {
    "collapsed": true
   },
   "outputs": [],
   "source": []
  }
 ],
 "metadata": {
  "anaconda-cloud": {},
  "kernelspec": {
   "display_name": "Python [py2]",
   "language": "python",
   "name": "Python [py2]"
  },
  "language_info": {
   "codemirror_mode": {
    "name": "ipython",
    "version": 2
   },
   "file_extension": ".py",
   "mimetype": "text/x-python",
   "name": "python",
   "nbconvert_exporter": "python",
   "pygments_lexer": "ipython2",
   "version": "2.7.12"
  }
 },
 "nbformat": 4,
 "nbformat_minor": 0
}
